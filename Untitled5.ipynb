{
  "nbformat": 4,
  "nbformat_minor": 0,
  "metadata": {
    "colab": {
      "provenance": [],
      "include_colab_link": true
    },
    "kernelspec": {
      "name": "python3",
      "display_name": "Python 3"
    },
    "language_info": {
      "name": "python"
    }
  },
  "cells": [
    {
      "cell_type": "markdown",
      "metadata": {
        "id": "view-in-github",
        "colab_type": "text"
      },
      "source": [
        "<a href=\"https://colab.research.google.com/github/aleksaveger-bot/AlexaVegera/blob/main/Untitled5.ipynb\" target=\"_parent\"><img src=\"https://colab.research.google.com/assets/colab-badge.svg\" alt=\"Open In Colab\"/></a>"
      ]
    },
    {
      "cell_type": "markdown",
      "source": [],
      "metadata": {
        "id": "_oGNLksiteuP"
      }
    },
    {
      "cell_type": "markdown",
      "source": [
        "Задание №1"
      ],
      "metadata": {
        "id": "09MAejwet15J"
      }
    },
    {
      "cell_type": "code",
      "execution_count": null,
      "metadata": {
        "colab": {
          "base_uri": "https://localhost:8080/"
        },
        "id": "IcHiAHBorq4n",
        "outputId": "5e090bad-f3fa-4934-fc11-65e9e634ac38"
      },
      "outputs": [
        {
          "output_type": "stream",
          "name": "stdout",
          "text": [
            "Hello,world\n"
          ]
        }
      ],
      "source": [
        "print(\"Hello,world\")"
      ]
    },
    {
      "cell_type": "markdown",
      "source": [
        "Задание №2"
      ],
      "metadata": {
        "id": "cWf26iipt7nI"
      }
    },
    {
      "cell_type": "code",
      "source": [
        "print(4, 8, 15, 16, 23, 42)"
      ],
      "metadata": {
        "colab": {
          "base_uri": "https://localhost:8080/"
        },
        "id": "FqmszJcvt98_",
        "outputId": "e8b7185e-fe2c-4473-edbd-de2ffe0d22a8"
      },
      "execution_count": null,
      "outputs": [
        {
          "output_type": "stream",
          "name": "stdout",
          "text": [
            "4 8 15 16 23 42\n"
          ]
        }
      ]
    },
    {
      "cell_type": "markdown",
      "source": [
        "Задание №3"
      ],
      "metadata": {
        "id": "yIm8GA6yxZDE"
      }
    },
    {
      "cell_type": "code",
      "source": [
        "print('*')\n",
        "print('**')\n",
        "print('***')\n",
        "print('****')\n",
        "print('*****')\n",
        "print('******')\n",
        "print('*******')\n"
      ],
      "metadata": {
        "colab": {
          "base_uri": "https://localhost:8080/"
        },
        "id": "NMThosc5xjTZ",
        "outputId": "d0842db7-9b5b-4107-dd56-0e67935e39b1"
      },
      "execution_count": null,
      "outputs": [
        {
          "output_type": "stream",
          "name": "stdout",
          "text": [
            "*\n",
            "**\n",
            "***\n",
            "****\n",
            "*****\n",
            "******\n"
          ]
        }
      ]
    },
    {
      "cell_type": "markdown",
      "source": [
        "Задание №4"
      ],
      "metadata": {
        "id": "1rA8Xq7523we"
      }
    },
    {
      "cell_type": "code",
      "source": [
        "print(\"Отчёт о доходах\")\n",
        "print(\"1 квартал: 1200000 руб.\")\n",
        "print(\"2 квартал: 1350000 руб.\")\n",
        "print(\"3 квартал: 1280000 руб.\")\n",
        "print(\"4 квартал: 1420000 руб.\")"
      ],
      "metadata": {
        "colab": {
          "base_uri": "https://localhost:8080/"
        },
        "id": "e8HpbQ-s25JM",
        "outputId": "51566d68-b3a2-46b6-e518-a9c28827aebb"
      },
      "execution_count": null,
      "outputs": [
        {
          "output_type": "stream",
          "name": "stdout",
          "text": [
            "Отчёт о доходах\n",
            "1 квартал: 1200000 руб.\n",
            "2 квартал: 1350000 руб.\n",
            "3 квартал: 1280000 руб.\n",
            "4 квартал: 1420000 руб.\n"
          ]
        }
      ]
    },
    {
      "cell_type": "markdown",
      "source": [
        "Задание №5"
      ],
      "metadata": {
        "id": "-HqfgzR2yZSE"
      }
    },
    {
      "cell_type": "code",
      "source": [
        "analyst_name = input()\n",
        "print('Добро пожаловать в команду,', analyst_name, '!')"
      ],
      "metadata": {
        "colab": {
          "base_uri": "https://localhost:8080/"
        },
        "id": "J7Le8c7nzE3T",
        "outputId": "649283b0-bfae-421f-b091-5b11fdc350d9"
      },
      "execution_count": null,
      "outputs": [
        {
          "output_type": "stream",
          "name": "stdout",
          "text": [
            "Александра\n",
            "Добро пожаловать в команду, Александра !\n"
          ]
        }
      ]
    },
    {
      "cell_type": "markdown",
      "source": [
        "Задание №6"
      ],
      "metadata": {
        "id": "V2nPTjd635fv"
      }
    },
    {
      "cell_type": "code",
      "source": [
        "company_name = input()\n",
        "print(company_name,\"- лидер рынка!\")"
      ],
      "metadata": {
        "colab": {
          "base_uri": "https://localhost:8080/"
        },
        "id": "65WvzhxA39Bk",
        "outputId": "2b866594-680a-4adc-fe03-0fb51aa4c62c"
      },
      "execution_count": null,
      "outputs": [
        {
          "output_type": "stream",
          "name": "stdout",
          "text": [
            "Ромашка\n",
            "Ромашка - лидер рынка!\n"
          ]
        }
      ]
    },
    {
      "cell_type": "markdown",
      "source": [
        "Задание №7\n",
        "\n"
      ],
      "metadata": {
        "id": "_tBVDG3t6Drw"
      }
    },
    {
      "cell_type": "code",
      "source": [
        "name = input()\n",
        "quantity_strings= input()\n",
        "number_colums=input()\n",
        "print(name)\n",
        "print(quantity_strings)\n",
        "print(number_colums)"
      ],
      "metadata": {
        "colab": {
          "base_uri": "https://localhost:8080/"
        },
        "id": "uAVpEq_H8EcJ",
        "outputId": "3abf466e-11a4-47c4-ec39-c80fc6c3ca9d"
      },
      "execution_count": null,
      "outputs": [
        {
          "output_type": "stream",
          "name": "stdout",
          "text": [
            "Sales Q1 \n",
            "2000\n",
            "8\n",
            "Sales Q1 \n",
            "2000\n",
            "8\n"
          ]
        }
      ]
    },
    {
      "cell_type": "markdown",
      "source": [
        "Задание №8"
      ],
      "metadata": {
        "id": "732v0cCN-oX4"
      }
    },
    {
      "cell_type": "code",
      "source": [
        "reporting1=input()\n",
        "reporting2=input()\n",
        "reporting3=input()\n",
        "print(reporting3)\n",
        "print(reporting2)\n",
        "print(reporting1)\n",
        "\n"
      ],
      "metadata": {
        "colab": {
          "base_uri": "https://localhost:8080/"
        },
        "id": "Iwe4ytkYAYTp",
        "outputId": "e3acc03d-7ae8-4c76-b109-633e94467206"
      },
      "execution_count": null,
      "outputs": [
        {
          "output_type": "stream",
          "name": "stdout",
          "text": [
            "Продажи за январь \n",
            "Продажи за февраль \n",
            "Продажи за март \n",
            "Продажи за март \n",
            "Продажи за февраль \n",
            "Продажи за январь \n"
          ]
        }
      ]
    },
    {
      "cell_type": "code",
      "source": [
        "reporting=['Продажи за январь','Продажи за февраль','Продажи за март']\n",
        "print(reporting[-1],'\\n',reporting[-2],'\\n',reporting[-3],'\\n')"
      ],
      "metadata": {
        "colab": {
          "base_uri": "https://localhost:8080/"
        },
        "id": "M_rV6Wau-rVZ",
        "outputId": "adb670bc-4548-40d5-c579-2f619cf74b05"
      },
      "execution_count": 17,
      "outputs": [
        {
          "output_type": "stream",
          "name": "stdout",
          "text": [
            "Продажи за март \n",
            " Продажи за февраль \n",
            " Продажи за январь \n",
            "\n"
          ]
        }
      ]
    },
    {
      "cell_type": "markdown",
      "source": [
        "Задание №9"
      ],
      "metadata": {
        "id": "diatIlctEyC3"
      }
    },
    {
      "cell_type": "code",
      "source": [
        "base_price = 100\n",
        "growth_percent = 20\n",
        "new_price =(base_price*(growth_percent/100))+base_price\n",
        "print(\"new_price=\",new_price)\n",
        "delta = new_price-base_price\n",
        "print(\"delta=\",delta)"
      ],
      "metadata": {
        "colab": {
          "base_uri": "https://localhost:8080/"
        },
        "id": "Vq2K7qf8ExVM",
        "outputId": "64ddf813-139c-4191-88d1-3f3349b44564"
      },
      "execution_count": 2,
      "outputs": [
        {
          "output_type": "stream",
          "name": "stdout",
          "text": [
            "new_price= 120.0\n",
            "delta= 20.0\n"
          ]
        }
      ]
    },
    {
      "cell_type": "markdown",
      "source": [
        "Задание №10"
      ],
      "metadata": {
        "id": "YvBSUVCZMQ4m"
      }
    },
    {
      "cell_type": "code",
      "source": [
        "district1=\"Северный\"\n",
        "district2=\"Центральный\"\n",
        "district3=\"Южный\"\n",
        "print(district1, district2, district3, sep='***')"
      ],
      "metadata": {
        "colab": {
          "base_uri": "https://localhost:8080/"
        },
        "id": "_VBudcciMRaO",
        "outputId": "031105a5-92f6-435d-eb0f-46d2ebc34983"
      },
      "execution_count": 19,
      "outputs": [
        {
          "output_type": "stream",
          "name": "stdout",
          "text": [
            "Северный***Центральный***Южный\n"
          ]
        }
      ]
    },
    {
      "cell_type": "markdown",
      "source": [
        "Задание №11"
      ],
      "metadata": {
        "id": "tuZBpFwLP4N5"
      }
    },
    {
      "cell_type": "code",
      "source": [
        "analyst_name=input()\n",
        "print(\"Подключение установлено. Добро пожаловать\", end=' , ')\n",
        "print(analyst_name,'!')"
      ],
      "metadata": {
        "colab": {
          "base_uri": "https://localhost:8080/"
        },
        "id": "zkYg7G2Cu1PR",
        "outputId": "a33de4a5-24f2-4d2f-f5ac-47438227f75b"
      },
      "execution_count": 21,
      "outputs": [
        {
          "output_type": "stream",
          "name": "stdout",
          "text": [
            "Александра\n",
            "Подключение установлено. Добро пожаловать , Александра !\n"
          ]
        }
      ]
    },
    {
      "cell_type": "markdown",
      "source": [
        "Задание №12"
      ],
      "metadata": {
        "id": "XkGgBy_cKNfR"
      }
    },
    {
      "cell_type": "code",
      "source": [
        "end=input()\n",
        "pruduct_name1=input()\n",
        "pruduct_name2=input()\n",
        "pruduct_name3=input()\n",
        "print(pruduct_name1 ,end,pruduct_name2 ,end,pruduct_name3 )"
      ],
      "metadata": {
        "colab": {
          "base_uri": "https://localhost:8080/"
        },
        "id": "x85FhBTqKRVp",
        "outputId": "c791a38b-8038-4943-ed8b-0445f59ab9bb"
      },
      "execution_count": 24,
      "outputs": [
        {
          "output_type": "stream",
          "name": "stdout",
          "text": [
            "|\n",
            "Молоко\n",
            "Хлеб\n",
            "Сыр\n",
            "Молоко | Хлеб | Сыр\n"
          ]
        }
      ]
    },
    {
      "cell_type": "markdown",
      "source": [
        "Задание №13"
      ],
      "metadata": {
        "id": "-p1RzhWHLvQM"
      }
    },
    {
      "cell_type": "code",
      "source": [
        "value_str='34.4'\n",
        "value_str_float=float(value_str)\n",
        "integer_part=int(value_str_float)\n",
        "print(\"integer_part=\",integer_part)"
      ],
      "metadata": {
        "colab": {
          "base_uri": "https://localhost:8080/"
        },
        "id": "tUnCC2JILxkD",
        "outputId": "92e46a0a-b4ac-48b4-ed29-c1901b82e929"
      },
      "execution_count": 42,
      "outputs": [
        {
          "output_type": "stream",
          "name": "stdout",
          "text": [
            "integer_part= 34\n"
          ]
        }
      ]
    },
    {
      "cell_type": "code",
      "source": [
        "value_str='34.4'\n",
        "integer_part=int(float(value_str))\n",
        "print(\"integer_part=\",integer_part)"
      ],
      "metadata": {
        "colab": {
          "base_uri": "https://localhost:8080/"
        },
        "id": "ELICJXjoTLD2",
        "outputId": "da153713-fd46-459f-8943-d515a253eda6"
      },
      "execution_count": 44,
      "outputs": [
        {
          "output_type": "stream",
          "name": "stdout",
          "text": [
            "integer_part= 34\n"
          ]
        }
      ]
    },
    {
      "cell_type": "markdown",
      "source": [
        "Задание №14"
      ],
      "metadata": {
        "id": "LjpSo4J-T1fA"
      }
    },
    {
      "cell_type": "code",
      "source": [
        "orders_yesterday = 10\n",
        "plan = 20\n",
        "abs_diff=abs(orders_yesterday-plan)\n",
        "print(\"Абсолютное отклонение от плана равняется\",abs_diff)"
      ],
      "metadata": {
        "colab": {
          "base_uri": "https://localhost:8080/"
        },
        "id": "wclvGtJHYOR0",
        "outputId": "282704c2-7a21-46c1-d483-256ff513dc1d"
      },
      "execution_count": 48,
      "outputs": [
        {
          "output_type": "stream",
          "name": "stdout",
          "text": [
            "Абсолютное отклонение от плана равняется 10\n"
          ]
        }
      ]
    },
    {
      "cell_type": "markdown",
      "source": [
        "Задание №15"
      ],
      "metadata": {
        "id": "KDGo8zxgZOqc"
      }
    },
    {
      "cell_type": "code",
      "source": [
        "number1=int(input())\n",
        "number2=int(input())\n",
        "number3=int(input())\n",
        "number4=int(input())\n",
        "number5=int(input())\n",
        "min_number=min(number1,number2,number3,number4,number5)\n",
        "max_number=max(number1,number2,number3,number4,number5)\n",
        "print('Наименьшее число = ',min_number)\n",
        "print(\"Наибольшее число = \",max_number)"
      ],
      "metadata": {
        "colab": {
          "base_uri": "https://localhost:8080/"
        },
        "id": "Oar_Gt6zZRK5",
        "outputId": "47c0dde1-cc9e-4d46-eec2-745bb5287b94"
      },
      "execution_count": 49,
      "outputs": [
        {
          "output_type": "stream",
          "name": "stdout",
          "text": [
            "1\n",
            "2\n",
            "3\n",
            "4\n",
            "5\n",
            "Наименьшее число =  1\n",
            "Наибольшее число =  5\n"
          ]
        }
      ]
    },
    {
      "cell_type": "code",
      "source": [
        "number1=1\n",
        "number2=2\n",
        "number3=3\n",
        "number4=4\n",
        "number5=5\n",
        "min_number=min(number1,number2,number3,number4,number5)\n",
        "max_number=max(number1,number2,number3,number4,number5)\n",
        "print('Наименьшее число = ',min_number)\n",
        "print(\"Наибольшее число = \",max_number)"
      ],
      "metadata": {
        "id": "hiR2qmW1bTCU",
        "outputId": "007e097c-6fed-41ac-9b7a-81fd47ef8d12",
        "colab": {
          "base_uri": "https://localhost:8080/"
        }
      },
      "execution_count": 50,
      "outputs": [
        {
          "output_type": "stream",
          "name": "stdout",
          "text": [
            "Наименьшее число =  1\n",
            "Наибольшее число =  5\n"
          ]
        }
      ]
    }
  ]
}